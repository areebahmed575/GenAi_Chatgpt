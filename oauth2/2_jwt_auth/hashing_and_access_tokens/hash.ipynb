{
 "cells": [
  {
   "cell_type": "markdown",
   "metadata": {},
   "source": [
    "## Why using Hashing?\n",
    "Now we have a secured login system that follows OAuth protocols and provides security for the frontend to authenticate\n",
    "with the backend using a username and password.\n",
    "To enhance the security, we have implemented hashing for the password. This ensures that even if the password is \n",
    "compromised, it cannot be easily decrypted.\n",
    "Now we will convert it into a proper Authentication & Authorization system.\n",
    " "
   ]
  },
  {
   "cell_type": "code",
   "execution_count": 2,
   "metadata": {},
   "outputs": [
    {
     "name": "stdout",
     "output_type": "stream",
     "text": [
      "Collecting bcrypt\n",
      "  Obtaining dependency information for bcrypt from https://files.pythonhosted.org/packages/53/5b/73803e5bf877e07739deaeecb2e356f4cc9ae3b766558959a898f7a993e0/bcrypt-4.1.2-cp39-abi3-win_amd64.whl.metadata\n",
      "  Downloading bcrypt-4.1.2-cp39-abi3-win_amd64.whl.metadata (9.8 kB)\n",
      "Downloading bcrypt-4.1.2-cp39-abi3-win_amd64.whl (158 kB)\n",
      "   ---------------------------------------- 0.0/158.3 kB ? eta -:--:--\n",
      "   -- ------------------------------------- 10.2/158.3 kB ? eta -:--:--\n",
      "   -- ------------------------------------- 10.2/158.3 kB ? eta -:--:--\n",
      "   -- ------------------------------------- 10.2/158.3 kB ? eta -:--:--\n",
      "   ------- ------------------------------- 30.7/158.3 kB 187.9 kB/s eta 0:00:01\n",
      "   ---------- ---------------------------- 41.0/158.3 kB 164.3 kB/s eta 0:00:01\n",
      "   --------------- ----------------------- 61.4/158.3 kB 233.8 kB/s eta 0:00:01\n",
      "   ----------------- --------------------- 71.7/158.3 kB 245.8 kB/s eta 0:00:01\n",
      "   ----------------- --------------------- 71.7/158.3 kB 245.8 kB/s eta 0:00:01\n",
      "   ----------------- --------------------- 71.7/158.3 kB 245.8 kB/s eta 0:00:01\n",
      "   ----------------- --------------------- 71.7/158.3 kB 245.8 kB/s eta 0:00:01\n",
      "   ----------------- --------------------- 71.7/158.3 kB 245.8 kB/s eta 0:00:01\n",
      "   -------------------------------------- 158.3/158.3 kB 296.1 kB/s eta 0:00:00\n",
      "Installing collected packages: bcrypt\n",
      "Successfully installed bcrypt-4.1.2\n",
      "Note: you may need to restart the kernel to use updated packages.\n"
     ]
    }
   ],
   "source": [
    "%pip install bcrypt"
   ]
  },
  {
   "cell_type": "code",
   "execution_count": 3,
   "metadata": {},
   "outputs": [
    {
     "name": "stderr",
     "output_type": "stream",
     "text": [
      "(trapped) error reading bcrypt version\n",
      "Traceback (most recent call last):\n",
      "  File \"c:\\Users\\DELL\\anaconda3\\envs\\python13\\Lib\\site-packages\\passlib\\handlers\\bcrypt.py\", line 620, in _load_backend_mixin\n",
      "    version = _bcrypt.__about__.__version__\n",
      "              ^^^^^^^^^^^^^^^^^\n",
      "AttributeError: module 'bcrypt' has no attribute '__about__'\n"
     ]
    },
    {
     "name": "stdout",
     "output_type": "stream",
     "text": [
      "hashed $2b$12$./JuGomzchDA1Mn/G3ljme.6sjO8zYa83dgR/K9XHTIkap1i1l0Ue\n",
      "verifypassword True\n"
     ]
    }
   ],
   "source": [
    "from passlib.context import CryptContext\n",
    "\n",
    "pwd_context = CryptContext(schemes=[\"bcrypt\"], deprecated=\"auto\")\n",
    "\n",
    "def verify_password(plain_password, hashed_password):\n",
    "    return pwd_context.verify(plain_password, hashed_password)\n",
    "\n",
    "def get_password_hash(password):\n",
    "    return pwd_context.hash(password)\n",
    "\n",
    "hash = get_password_hash(\"password\")\n",
    "\n",
    "print(\"hashed\",hash)\n",
    "\n",
    "print(\"verifypassword\",verify_password(\"password\",hash))"
   ]
  }
 ],
 "metadata": {
  "kernelspec": {
   "display_name": "python13",
   "language": "python",
   "name": "python3"
  },
  "language_info": {
   "codemirror_mode": {
    "name": "ipython",
    "version": 3
   },
   "file_extension": ".py",
   "mimetype": "text/x-python",
   "name": "python",
   "nbconvert_exporter": "python",
   "pygments_lexer": "ipython3",
   "version": "3.12.0"
  }
 },
 "nbformat": 4,
 "nbformat_minor": 2
}
