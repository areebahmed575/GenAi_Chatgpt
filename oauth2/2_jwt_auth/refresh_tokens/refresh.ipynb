{
 "cells": [
  {
   "cell_type": "markdown",
   "metadata": {},
   "source": [
    "## Refresh Token Grants\n",
    "\n",
    "The Refresh Token grant type is used by clients to exchange a refresh token for an access token when the access token has expired.\n",
    "This allows clients to continue to have a valid access token without further interaction with the user."
   ]
  },
  {
   "cell_type": "code",
   "execution_count": null,
   "metadata": {},
   "outputs": [],
   "source": []
  }
 ],
 "metadata": {
  "language_info": {
   "name": "python"
  }
 },
 "nbformat": 4,
 "nbformat_minor": 2
}
