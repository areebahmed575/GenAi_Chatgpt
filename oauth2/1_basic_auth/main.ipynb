{
 "cells": [
  {
   "cell_type": "markdown",
   "metadata": {},
   "source": [
    "## Authentication:\n",
    "\n",
    "Definition: Authentication is the process of verifying the identity of a user, system, or application. It ensures that the entity claiming a particular identity is indeed who it says it is.\n",
    "#### Example: \n",
    "Consider a user trying to log into an email account. The authentication process involves providing a username and password. If the entered credentials match the stored credentials associated with that account, the user is successfully authenticated and granted access.\n",
    "## Authorization:\n",
    "\n",
    "Definition: Authorization is the process of determining what actions or resources a user, system, or application is allowed to access after successful authentication. Once the identity is verified, authorization defines the permissions and privileges associated with that identity.\n",
    "#### Example: \n",
    "After successfully authenticating to an email account, authorization determines what actions the user can perform. For instance, an authenticated user may be authorized to read, write, and delete emails, but not allowed to change account settings. Authorization is about defining and enforcing these access rights."
   ]
  },
  {
   "cell_type": "markdown",
   "metadata": {},
   "source": [
    "### tokenUrl=\"token\"\n",
    "This parameter doesn't create that endpoint / path operation, but declares that the URL /token will be the one that the client should use to get the token.\n",
    "That information is used in OpenAPI, and then in the interactive API documentation systems."
   ]
  },
  {
   "cell_type": "markdown",
   "metadata": {},
   "source": [
    "##### Annotated[str, Depends(oauth2_scheme)]\n",
    "The Annotated class is used for adding additional metadata or annotations to the type hints in Python. In the context of FastAPI, it's often used to attach dependencies or additional information to parameters."
   ]
  },
  {
   "cell_type": "code",
   "execution_count": 1,
   "metadata": {},
   "outputs": [],
   "source": [
    "# main.py\n",
    "from typing import Annotated\n",
    "\n",
    "from fastapi import Depends, FastAPI\n",
    "from fastapi.security import OAuth2PasswordBearer\n",
    "\n",
    "app = FastAPI()\n",
    "\n",
    "oauth2_scheme = OAuth2PasswordBearer(tokenUrl=\"token\") \n",
    "\n",
    "@app.get(\"/\")\n",
    "async def root():\n",
    "    print(OAuth2PasswordBearer.__doc__)\n",
    "    return {\"message\": \"Hello World\"}\n",
    "\n",
    "@app.get(\"/token\")\n",
    "async def read_items(token: Annotated[str, Depends(oauth2_scheme)]):\n",
    "    return {\"token\": token}"
   ]
  },
  {
   "cell_type": "code",
   "execution_count": 3,
   "metadata": {},
   "outputs": [],
   "source": [
    "from fastapi.security import OAuth2PasswordBearer,OAuth2PasswordRequestForm\n",
    "@app.post(\"/form\")\n",
    "async def login(form_data: Annotated[OAuth2PasswordRequestForm, Depends()]):\n",
    "    return {\"access_token\": form_data.username ,\"tokentype\": \"bearer\" }\n",
    "# http://127.0.0.1:8000/openapi.json\n"
   ]
  }
 ],
 "metadata": {
  "kernelspec": {
   "display_name": "python13",
   "language": "python",
   "name": "python3"
  },
  "language_info": {
   "codemirror_mode": {
    "name": "ipython",
    "version": 3
   },
   "file_extension": ".py",
   "mimetype": "text/x-python",
   "name": "python",
   "nbconvert_exporter": "python",
   "pygments_lexer": "ipython3",
   "version": "3.12.0"
  }
 },
 "nbformat": 4,
 "nbformat_minor": 2
}
