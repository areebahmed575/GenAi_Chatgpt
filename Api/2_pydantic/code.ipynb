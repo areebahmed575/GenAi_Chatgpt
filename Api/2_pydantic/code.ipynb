{
 "cells": [
  {
   "cell_type": "markdown",
   "metadata": {},
   "source": [
    "## Pydantic: Data validation using Python type hints"
   ]
  },
  {
   "cell_type": "code",
   "execution_count": 2,
   "metadata": {},
   "outputs": [
    {
     "name": "stdout",
     "output_type": "stream",
     "text": [
      "Requirement already satisfied: requests in c:\\users\\dell\\anaconda3\\envs\\python13\\lib\\site-packages (from -r requirements.txt (line 1)) (2.31.0)Note: you may need to restart the kernel to use updated packages.\n",
      "\n",
      "Requirement already satisfied: charset-normalizer<4,>=2 in c:\\users\\dell\\anaconda3\\envs\\python13\\lib\\site-packages (from requests->-r requirements.txt (line 1)) (3.3.2)\n",
      "Requirement already satisfied: idna<4,>=2.5 in c:\\users\\dell\\anaconda3\\envs\\python13\\lib\\site-packages (from requests->-r requirements.txt (line 1)) (3.6)\n",
      "Requirement already satisfied: urllib3<3,>=1.21.1 in c:\\users\\dell\\anaconda3\\envs\\python13\\lib\\site-packages (from requests->-r requirements.txt (line 1)) (2.1.0)\n",
      "Requirement already satisfied: certifi>=2017.4.17 in c:\\users\\dell\\anaconda3\\envs\\python13\\lib\\site-packages (from requests->-r requirements.txt (line 1)) (2023.11.17)\n"
     ]
    }
   ],
   "source": [
    "%pip install -r requirements.txt"
   ]
  },
  {
   "cell_type": "code",
   "execution_count": 14,
   "metadata": {},
   "outputs": [
    {
     "name": "stdout",
     "output_type": "stream",
     "text": [
      "datetime.datetime(2020, 1, 2, 3, 4, 5, tzinfo=TzInfo(UTC))\n",
      "2020-01-02 03:04:05+00:00\n",
      "(10, 20)\n"
     ]
    }
   ],
   "source": [
    "from typing import Tuple\n",
    "from datetime import datetime\n",
    "\n",
    "from pydantic import BaseModel\n",
    "\n",
    "\n",
    "class Delivery(BaseModel):\n",
    "    timestamp: datetime\n",
    "    dimensions: Tuple[int, int]\n",
    "\n",
    "\n",
    "m = Delivery(timestamp='2020-01-02T03:04:05Z', dimensions=['10', '20'])\n",
    "\n",
    "print(repr(m.timestamp))\n",
    "print(m.timestamp)\n",
    "#> datetime.datetime(2020, 1, 2, 3, 4, 5, tzinfo=TzInfo(UTC))\n",
    "print(m.dimensions)\n",
    "#> (10, 20)"
   ]
  },
  {
   "cell_type": "code",
   "execution_count": 23,
   "metadata": {},
   "outputs": [
    {
     "name": "stdout",
     "output_type": "stream",
     "text": [
      "123\n"
     ]
    },
    {
     "data": {
      "text/plain": [
       "User(id=123, name='Areeb Ahmed', signup_ts=datetime.datetime(2019, 6, 1, 12, 22), tastes={'wine': 9, 'cheese': 7, 'cabbage': 1})"
      ]
     },
     "metadata": {},
     "output_type": "display_data"
    },
    {
     "data": {
      "text/plain": [
       "{'id': 123,\n",
       " 'name': 'Areeb Ahmed',\n",
       " 'signup_ts': datetime.datetime(2019, 6, 1, 12, 22),\n",
       " 'tastes': {'wine': 9, 'cheese': 7, 'cabbage': 1}}"
      ]
     },
     "metadata": {},
     "output_type": "display_data"
    }
   ],
   "source": [
    "from datetime import datetime\n",
    "\n",
    "from pydantic import BaseModel, PositiveInt\n",
    "\n",
    "\n",
    "class User(BaseModel):\n",
    "    id: int  \n",
    "    name: str = 'John Doe'  \n",
    "    signup_ts: datetime | None  \n",
    "    tastes: dict[str, PositiveInt]  \n",
    "\n",
    "\n",
    "external_data = {\n",
    "    'id': 123,\n",
    "    'signup_ts': '2019-06-01 12:22',  \n",
    "    'tastes': {\n",
    "        'wine': 9,\n",
    "        'cheese': 7,  \n",
    "        'cabbage': '1',  \n",
    "    },\n",
    "    'name' : \"Areeb Ahmed\"\n",
    "}\n",
    "\n",
    "user = User(**external_data) #** for multiple arguments \n",
    "\n",
    "print(user.id)  \n",
    "#> 123\n",
    "display(user)\n",
    "display(user.model_dump())  "
   ]
  },
  {
   "cell_type": "code",
   "execution_count": 16,
   "metadata": {},
   "outputs": [
    {
     "ename": "ValidationError",
     "evalue": "2 validation errors for User\nid\n  Input should be a valid integer, unable to parse string as an integer [type=int_parsing, input_value='not an int', input_type=str]\n    For further information visit https://errors.pydantic.dev/2.5/v/int_parsing\nsignup_ts\n  Field required [type=missing, input_value={'id': 'not an int', 'tastes': {}}, input_type=dict]\n    For further information visit https://errors.pydantic.dev/2.5/v/missing",
     "output_type": "error",
     "traceback": [
      "\u001b[1;31m---------------------------------------------------------------------------\u001b[0m",
      "\u001b[1;31mValidationError\u001b[0m                           Traceback (most recent call last)",
      "Cell \u001b[1;32mIn[16], line 15\u001b[0m\n\u001b[0;32m     10\u001b[0m     tastes: \u001b[38;5;28mdict\u001b[39m[\u001b[38;5;28mstr\u001b[39m, PositiveInt]\n\u001b[0;32m     13\u001b[0m external_data \u001b[38;5;241m=\u001b[39m {\u001b[38;5;124m'\u001b[39m\u001b[38;5;124mid\u001b[39m\u001b[38;5;124m'\u001b[39m: \u001b[38;5;124m'\u001b[39m\u001b[38;5;124mnot an int\u001b[39m\u001b[38;5;124m'\u001b[39m, \u001b[38;5;124m'\u001b[39m\u001b[38;5;124mtastes\u001b[39m\u001b[38;5;124m'\u001b[39m: {}}  \u001b[38;5;66;03m# giving wrong types\u001b[39;00m\n\u001b[1;32m---> 15\u001b[0m user \u001b[38;5;241m=\u001b[39m \u001b[43mUser\u001b[49m\u001b[43m(\u001b[49m\u001b[38;5;241;43m*\u001b[39;49m\u001b[38;5;241;43m*\u001b[39;49m\u001b[43mexternal_data\u001b[49m\u001b[43m)\u001b[49m\n\u001b[0;32m     17\u001b[0m display(user)\n",
      "File \u001b[1;32mc:\\Users\\DELL\\anaconda3\\envs\\python13\\Lib\\site-packages\\pydantic\\main.py:164\u001b[0m, in \u001b[0;36mBaseModel.__init__\u001b[1;34m(__pydantic_self__, **data)\u001b[0m\n\u001b[0;32m    162\u001b[0m \u001b[38;5;66;03m# `__tracebackhide__` tells pytest and some other tools to omit this function from tracebacks\u001b[39;00m\n\u001b[0;32m    163\u001b[0m __tracebackhide__ \u001b[38;5;241m=\u001b[39m \u001b[38;5;28;01mTrue\u001b[39;00m\n\u001b[1;32m--> 164\u001b[0m \u001b[43m__pydantic_self__\u001b[49m\u001b[38;5;241;43m.\u001b[39;49m\u001b[43m__pydantic_validator__\u001b[49m\u001b[38;5;241;43m.\u001b[39;49m\u001b[43mvalidate_python\u001b[49m\u001b[43m(\u001b[49m\u001b[43mdata\u001b[49m\u001b[43m,\u001b[49m\u001b[43m \u001b[49m\u001b[43mself_instance\u001b[49m\u001b[38;5;241;43m=\u001b[39;49m\u001b[43m__pydantic_self__\u001b[49m\u001b[43m)\u001b[49m\n",
      "\u001b[1;31mValidationError\u001b[0m: 2 validation errors for User\nid\n  Input should be a valid integer, unable to parse string as an integer [type=int_parsing, input_value='not an int', input_type=str]\n    For further information visit https://errors.pydantic.dev/2.5/v/int_parsing\nsignup_ts\n  Field required [type=missing, input_value={'id': 'not an int', 'tastes': {}}, input_type=dict]\n    For further information visit https://errors.pydantic.dev/2.5/v/missing"
     ]
    }
   ],
   "source": [
    "# continuing the above example...\n",
    "\n",
    "from pydantic import ValidationError\n",
    "\n",
    "\n",
    "class User(BaseModel):\n",
    "    id: int\n",
    "    name: str = 'John Doe'\n",
    "    signup_ts: datetime | None\n",
    "    tastes: dict[str, PositiveInt]\n",
    "\n",
    "\n",
    "external_data = {'id': 'not an int', 'tastes': {}}  # giving wrong types\n",
    "\n",
    "user = User(**external_data)\n",
    "\n",
    "display(user)\n",
    "   "
   ]
  },
  {
   "cell_type": "code",
   "execution_count": 17,
   "metadata": {},
   "outputs": [
    {
     "data": {
      "text/plain": [
       "[{'type': 'int_parsing',\n",
       "  'loc': ('id',),\n",
       "  'msg': 'Input should be a valid integer, unable to parse string as an integer',\n",
       "  'input': 'not an int',\n",
       "  'url': 'https://errors.pydantic.dev/2.5/v/int_parsing'},\n",
       " {'type': 'missing',\n",
       "  'loc': ('signup_ts',),\n",
       "  'msg': 'Field required',\n",
       "  'input': {'id': 'not an int', 'tastes': {}},\n",
       "  'url': 'https://errors.pydantic.dev/2.5/v/missing'}]"
      ]
     },
     "metadata": {},
     "output_type": "display_data"
    }
   ],
   "source": [
    "# continuing the above example...\n",
    "\n",
    "from pydantic import ValidationError\n",
    "\n",
    "\n",
    "class User(BaseModel):\n",
    "    id: int\n",
    "    name: str = 'John Doe'\n",
    "    signup_ts: datetime | None\n",
    "    tastes: dict[str, PositiveInt]\n",
    "\n",
    "\n",
    "external_data = {'id': 'not an int', 'tastes': {}}  \n",
    "\n",
    "try:\n",
    "    User(**external_data)  \n",
    "except ValidationError as e:\n",
    "    display(e.errors())\n",
    "   "
   ]
  },
  {
   "cell_type": "code",
   "execution_count": 7,
   "metadata": {},
   "outputs": [
    {
     "name": "stdout",
     "output_type": "stream",
     "text": [
      "Collecting email_validator\n",
      "  Obtaining dependency information for email_validator from https://files.pythonhosted.org/packages/09/68/d237a603d524ba052e292d71c89939bfa70e3ec7963b255cc3ef7a8770a0/email_validator-2.1.0.post1-py3-none-any.whl.metadata\n",
      "  Downloading email_validator-2.1.0.post1-py3-none-any.whl.metadata (25 kB)\n",
      "Collecting dnspython>=2.0.0 (from email_validator)\n",
      "  Obtaining dependency information for dnspython>=2.0.0 from https://files.pythonhosted.org/packages/f6/b4/0a9bee52c50f226a3cbfb54263d02bb421c7f2adc136520729c2c689c1e5/dnspython-2.4.2-py3-none-any.whl.metadata\n",
      "  Downloading dnspython-2.4.2-py3-none-any.whl.metadata (4.9 kB)\n",
      "Requirement already satisfied: idna>=2.0.0 in c:\\users\\dell\\anaconda3\\envs\\python13\\lib\\site-packages (from email_validator) (3.6)\n",
      "Downloading email_validator-2.1.0.post1-py3-none-any.whl (32 kB)\n",
      "Downloading dnspython-2.4.2-py3-none-any.whl (300 kB)\n",
      "   ---------------------------------------- 0.0/300.4 kB ? eta -:--:--\n",
      "   ---- ----------------------------------- 30.7/300.4 kB 1.3 MB/s eta 0:00:01\n",
      "   ----- --------------------------------- 41.0/300.4 kB 653.6 kB/s eta 0:00:01\n",
      "   ------- ------------------------------- 61.4/300.4 kB 544.7 kB/s eta 0:00:01\n",
      "   ------- ------------------------------- 61.4/300.4 kB 544.7 kB/s eta 0:00:01\n",
      "   ------- ------------------------------- 61.4/300.4 kB 544.7 kB/s eta 0:00:01\n",
      "   ------- ------------------------------- 61.4/300.4 kB 544.7 kB/s eta 0:00:01\n",
      "   --------- ----------------------------- 71.7/300.4 kB 245.8 kB/s eta 0:00:01\n",
      "   --------- ----------------------------- 71.7/300.4 kB 245.8 kB/s eta 0:00:01\n",
      "   ----------- --------------------------- 92.2/300.4 kB 238.1 kB/s eta 0:00:01\n",
      "   ----------- --------------------------- 92.2/300.4 kB 238.1 kB/s eta 0:00:01\n",
      "   ----------- --------------------------- 92.2/300.4 kB 238.1 kB/s eta 0:00:01\n",
      "   ----------- --------------------------- 92.2/300.4 kB 238.1 kB/s eta 0:00:01\n",
      "   -------------- ----------------------- 112.6/300.4 kB 187.2 kB/s eta 0:00:02\n",
      "   -------------- ----------------------- 112.6/300.4 kB 187.2 kB/s eta 0:00:02\n",
      "   ------------------ ------------------- 143.4/300.4 kB 218.2 kB/s eta 0:00:01\n",
      "   ------------------ ------------------- 143.4/300.4 kB 218.2 kB/s eta 0:00:01\n",
      "   ------------------ ------------------- 143.4/300.4 kB 218.2 kB/s eta 0:00:01\n",
      "   ------------------------ ------------- 194.6/300.4 kB 231.3 kB/s eta 0:00:01\n",
      "   ------------------------- ------------ 204.8/300.4 kB 235.0 kB/s eta 0:00:01\n",
      "   ----------------------------- -------- 235.5/300.4 kB 252.8 kB/s eta 0:00:01\n",
      "   ---------------------------------- --- 276.5/300.4 kB 288.8 kB/s eta 0:00:01\n",
      "   -------------------------------------- 300.4/300.4 kB 299.4 kB/s eta 0:00:00\n",
      "Installing collected packages: dnspython, email_validator\n",
      "Successfully installed dnspython-2.4.2 email_validator-2.1.0.post1\n",
      "Note: you may need to restart the kernel to use updated packages.\n"
     ]
    }
   ],
   "source": [
    "%pip install email_validator"
   ]
  },
  {
   "cell_type": "code",
   "execution_count": 18,
   "metadata": {},
   "outputs": [],
   "source": [
    "from pydantic import BaseModel, EmailStr, validator"
   ]
  },
  {
   "cell_type": "code",
   "execution_count": 47,
   "metadata": {},
   "outputs": [
    {
     "name": "stdout",
     "output_type": "stream",
     "text": [
      "{\"name\":\"Zia Khan\",\"email\":\"zia@panacloud.org\",\"account_id\":200} <class 'str'>\n",
      "name='Zia Khan' email='zia@panacloud.org' account_id=200\n"
     ]
    },
    {
     "name": "stderr",
     "output_type": "stream",
     "text": [
      "C:\\Users\\DELL\\AppData\\Local\\Temp\\ipykernel_9548\\538948492.py:8: PydanticDeprecatedSince20: Pydantic V1 style `@validator` validators are deprecated. You should migrate to Pydantic V2 style `@field_validator` validators, see the migration guide for more details. Deprecated in Pydantic V2.0 to be removed in V3.0. See Pydantic V2 Migration Guide at https://errors.pydantic.dev/2.5/migration/\n",
      "  @validator('account_id')\n"
     ]
    }
   ],
   "source": [
    "from pydantic import BaseModel, EmailStr, validator\n",
    "\n",
    "class User(BaseModel):\n",
    "    name: str\n",
    "    email: EmailStr\n",
    "    account_id: int\n",
    "\n",
    "    @validator('account_id')\n",
    "    def validate_account_id(cls, value:int):\n",
    "\n",
    "        if value <= 0:\n",
    "            raise ValueError(f\"Account ID must be Positive: {value}\")\n",
    "        return value\n",
    "    \n",
    "user1: User = User(name=\"Zia Khan\", email=\"zia@panacloud.org\", account_id=200) # <--200\n",
    "# print(user1)\n",
    "user_json_str: str = user1.model_dump_json()\n",
    "print(user_json_str, type(user_json_str))\n",
    "\n",
    "user_obj : User = user.model_validate_json(user_json_str)\n",
    "print(user_obj)"
   ]
  },
  {
   "cell_type": "markdown",
   "metadata": {},
   "source": [
    "## Create a Model:"
   ]
  },
  {
   "cell_type": "code",
   "execution_count": 26,
   "metadata": {},
   "outputs": [],
   "source": [
    "class User(BaseModel):\n",
    "    name: str\n",
    "    email: EmailStr\n",
    "    account_id: int\n",
    "\n",
    "    def validate_account_id(cls, value:int):\n",
    "        if(value <= 0):\n",
    "            raise ValueError(f\"Account ID must be Positive: {value}\")\n",
    "        return value"
   ]
  },
  {
   "cell_type": "code",
   "execution_count": 35,
   "metadata": {},
   "outputs": [
    {
     "name": "stdout",
     "output_type": "stream",
     "text": [
      "name='Zia Khan' email='zia@panacloud.com' account_id=1234\n"
     ]
    }
   ],
   "source": [
    "user: User = User(name=\"Zia Khan\", email=\"zia@panacloud.com\", account_id=1234)\n",
    "print(user)"
   ]
  },
  {
   "cell_type": "code",
   "execution_count": 36,
   "metadata": {},
   "outputs": [
    {
     "ename": "ValidationError",
     "evalue": "1 validation error for User\naccount_id\n  Value error, Account ID must be Positive: -10 [type=value_error, input_value=-10, input_type=int]\n    For further information visit https://errors.pydantic.dev/2.5/v/value_error",
     "output_type": "error",
     "traceback": [
      "\u001b[1;31m---------------------------------------------------------------------------\u001b[0m",
      "\u001b[1;31mValidationError\u001b[0m                           Traceback (most recent call last)",
      "Cell \u001b[1;32mIn[36], line 1\u001b[0m\n\u001b[1;32m----> 1\u001b[0m user1: User \u001b[38;5;241m=\u001b[39m \u001b[43mUser\u001b[49m\u001b[43m(\u001b[49m\u001b[43mname\u001b[49m\u001b[38;5;241;43m=\u001b[39;49m\u001b[38;5;124;43m\"\u001b[39;49m\u001b[38;5;124;43mZia Khan\u001b[39;49m\u001b[38;5;124;43m\"\u001b[39;49m\u001b[43m,\u001b[49m\u001b[43m \u001b[49m\u001b[43memail\u001b[49m\u001b[38;5;241;43m=\u001b[39;49m\u001b[38;5;124;43m\"\u001b[39;49m\u001b[38;5;124;43mzia@panacloud.com\u001b[39;49m\u001b[38;5;124;43m\"\u001b[39;49m\u001b[43m,\u001b[49m\u001b[43m \u001b[49m\u001b[43maccount_id\u001b[49m\u001b[38;5;241;43m=\u001b[39;49m\u001b[38;5;241;43m-\u001b[39;49m\u001b[38;5;241;43m10\u001b[39;49m\u001b[43m)\u001b[49m\n\u001b[0;32m      2\u001b[0m \u001b[38;5;28mprint\u001b[39m(user1)\n",
      "File \u001b[1;32mc:\\Users\\DELL\\anaconda3\\envs\\python13\\Lib\\site-packages\\pydantic\\main.py:164\u001b[0m, in \u001b[0;36mBaseModel.__init__\u001b[1;34m(__pydantic_self__, **data)\u001b[0m\n\u001b[0;32m    162\u001b[0m \u001b[38;5;66;03m# `__tracebackhide__` tells pytest and some other tools to omit this function from tracebacks\u001b[39;00m\n\u001b[0;32m    163\u001b[0m __tracebackhide__ \u001b[38;5;241m=\u001b[39m \u001b[38;5;28;01mTrue\u001b[39;00m\n\u001b[1;32m--> 164\u001b[0m \u001b[43m__pydantic_self__\u001b[49m\u001b[38;5;241;43m.\u001b[39;49m\u001b[43m__pydantic_validator__\u001b[49m\u001b[38;5;241;43m.\u001b[39;49m\u001b[43mvalidate_python\u001b[49m\u001b[43m(\u001b[49m\u001b[43mdata\u001b[49m\u001b[43m,\u001b[49m\u001b[43m \u001b[49m\u001b[43mself_instance\u001b[49m\u001b[38;5;241;43m=\u001b[39;49m\u001b[43m__pydantic_self__\u001b[49m\u001b[43m)\u001b[49m\n",
      "\u001b[1;31mValidationError\u001b[0m: 1 validation error for User\naccount_id\n  Value error, Account ID must be Positive: -10 [type=value_error, input_value=-10, input_type=int]\n    For further information visit https://errors.pydantic.dev/2.5/v/value_error"
     ]
    }
   ],
   "source": [
    "user1: User = User(name=\"Zia Khan\", email=\"zia@panacloud.com\", account_id=-10)\n",
    "print(user1)"
   ]
  },
  {
   "cell_type": "code",
   "execution_count": 37,
   "metadata": {},
   "outputs": [
    {
     "data": {
      "text/plain": [
       "'{\"name\":\"Zia Khan\",\"email\":\"zia@panacloud.com\",\"account_id\":1234}'"
      ]
     },
     "metadata": {},
     "output_type": "display_data"
    },
    {
     "data": {
      "text/plain": [
       "'{\"name\":\"Zia Khan\",\"email\":\"zia@panacloud.com\",\"account_id\":10}'"
      ]
     },
     "execution_count": 37,
     "metadata": {},
     "output_type": "execute_result"
    }
   ],
   "source": [
    "display(user.model_dump_json())\n",
    "user1.model_dump_json()"
   ]
  },
  {
   "cell_type": "code",
   "execution_count": 38,
   "metadata": {},
   "outputs": [
    {
     "data": {
      "text/plain": [
       "User(name='Zia Khan', email='zia@panacloud.com', account_id=10)"
      ]
     },
     "execution_count": 38,
     "metadata": {},
     "output_type": "execute_result"
    }
   ],
   "source": [
    "User.model_validate_json(user1.model_dump_json())"
   ]
  },
  {
   "cell_type": "code",
   "execution_count": 39,
   "metadata": {},
   "outputs": [
    {
     "data": {
      "text/plain": [
       "User(name='Zia Khan', email='zia@panacloud.com', account_id=1234)"
      ]
     },
     "execution_count": 39,
     "metadata": {},
     "output_type": "execute_result"
    }
   ],
   "source": [
    "User.model_validate_json(user.model_dump_json())"
   ]
  },
  {
   "cell_type": "markdown",
   "metadata": {},
   "source": [
    "## JSON Output:"
   ]
  },
  {
   "cell_type": "code",
   "execution_count": 40,
   "metadata": {},
   "outputs": [
    {
     "name": "stdout",
     "output_type": "stream",
     "text": [
      "{\"name\":\"Zia Khan\",\"email\":\"zia@panacloud.com\",\"account_id\":1234} <class 'str'>\n"
     ]
    }
   ],
   "source": [
    "user_json_str: str = user.model_dump_json()\n",
    "print(user_json_str, type(user_json_str))"
   ]
  },
  {
   "cell_type": "markdown",
   "metadata": {},
   "source": [
    "# Dictionary Object:"
   ]
  },
  {
   "cell_type": "code",
   "execution_count": 41,
   "metadata": {},
   "outputs": [
    {
     "name": "stdout",
     "output_type": "stream",
     "text": [
      "{'name': 'Zia Khan', 'email': 'zia@panacloud.com', 'account_id': 1234} <class 'dict'>\n"
     ]
    }
   ],
   "source": [
    "user_dict: dict = user.model_dump()\n",
    "print(user_dict, type(user_dict))"
   ]
  },
  {
   "cell_type": "markdown",
   "metadata": {},
   "source": [
    "## Convert JSON str into Object:"
   ]
  },
  {
   "cell_type": "code",
   "execution_count": 45,
   "metadata": {},
   "outputs": [
    {
     "name": "stdout",
     "output_type": "stream",
     "text": [
      "name='Zia Khan' email='zia@panacloud.com' account_id=1234\n"
     ]
    }
   ],
   "source": [
    "user_obj : User = User.model_validate_json(user_json_str)\n",
    "print(user_obj)"
   ]
  },
  {
   "cell_type": "code",
   "execution_count": 50,
   "metadata": {},
   "outputs": [
    {
     "name": "stdout",
     "output_type": "stream",
     "text": [
      "id=123 name='John Doe' signup_ts=datetime.datetime(2017, 6, 1, 12, 22) friends=[1, 2, 3]\n",
      "123\n"
     ]
    }
   ],
   "source": [
    "from datetime import datetime\n",
    "from typing import Optional\n",
    "\n",
    "class User(BaseModel):\n",
    "    id: int\n",
    "    name: str = 'John Doe'\n",
    "    signup_ts: Optional[datetime] = None\n",
    "    friends: list[int] = []\n",
    "\n",
    "external_data: dict = {'id': '123', 'signup_ts': '2017-06-01 12:22', 'friends': [1, '2', b'3']}\n",
    "user: User = User(**external_data)\n",
    "print(user)\n",
    "print(user.id)"
   ]
  }
 ],
 "metadata": {
  "kernelspec": {
   "display_name": "python13",
   "language": "python",
   "name": "python3"
  },
  "language_info": {
   "codemirror_mode": {
    "name": "ipython",
    "version": 3
   },
   "file_extension": ".py",
   "mimetype": "text/x-python",
   "name": "python",
   "nbconvert_exporter": "python",
   "pygments_lexer": "ipython3",
   "version": "3.12.0"
  }
 },
 "nbformat": 4,
 "nbformat_minor": 2
}
