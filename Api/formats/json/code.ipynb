{
 "cells": [
  {
   "cell_type": "code",
   "execution_count": 3,
   "metadata": {},
   "outputs": [
    {
     "name": "stdout",
     "output_type": "stream",
     "text": [
      "Collecting jsonschemaNote: you may need to restart the kernel to use updated packages.\n",
      "\n",
      "  Obtaining dependency information for jsonschema from https://files.pythonhosted.org/packages/76/f4/41e31ff45e30a9ed80f3e399b23481ac3db1cb796d315bc8813716ed8d5f/jsonschema-4.21.0-py3-none-any.whl.metadata\n",
      "  Downloading jsonschema-4.21.0-py3-none-any.whl.metadata (8.0 kB)\n",
      "Collecting attrs>=22.2.0 (from jsonschema)\n",
      "  Obtaining dependency information for attrs>=22.2.0 from https://files.pythonhosted.org/packages/e0/44/827b2a91a5816512fcaf3cc4ebc465ccd5d598c45cefa6703fcf4a79018f/attrs-23.2.0-py3-none-any.whl.metadata\n",
      "  Downloading attrs-23.2.0-py3-none-any.whl.metadata (9.5 kB)\n",
      "Collecting jsonschema-specifications>=2023.03.6 (from jsonschema)\n",
      "  Obtaining dependency information for jsonschema-specifications>=2023.03.6 from https://files.pythonhosted.org/packages/ee/07/44bd408781594c4d0a027666ef27fab1e441b109dc3b76b4f836f8fd04fe/jsonschema_specifications-2023.12.1-py3-none-any.whl.metadata\n",
      "  Downloading jsonschema_specifications-2023.12.1-py3-none-any.whl.metadata (3.0 kB)\n",
      "Collecting referencing>=0.28.4 (from jsonschema)\n",
      "  Obtaining dependency information for referencing>=0.28.4 from https://files.pythonhosted.org/packages/14/2a/0a9f649354cd2d40f6c4f16eadabd9727377e3b9bc2ccec6cb630d9a6765/referencing-0.32.1-py3-none-any.whl.metadata\n",
      "  Downloading referencing-0.32.1-py3-none-any.whl.metadata (2.7 kB)\n",
      "Collecting rpds-py>=0.7.1 (from jsonschema)\n",
      "  Obtaining dependency information for rpds-py>=0.7.1 from https://files.pythonhosted.org/packages/df/bf/b464b2dad90fa3528956d0c789b835e4c661ebb917bb487d11ff1eac5c67/rpds_py-0.17.1-cp312-none-win_amd64.whl.metadata\n",
      "  Downloading rpds_py-0.17.1-cp312-none-win_amd64.whl.metadata (4.2 kB)\n",
      "Downloading jsonschema-4.21.0-py3-none-any.whl (85 kB)\n",
      "   ---------------------------------------- 0.0/85.1 kB ? eta -:--:--\n",
      "   -------------- ------------------------- 30.7/85.1 kB 1.3 MB/s eta 0:00:01\n",
      "   -------------------------------------- - 81.9/85.1 kB 1.1 MB/s eta 0:00:01\n",
      "   ---------------------------------------- 85.1/85.1 kB 947.5 kB/s eta 0:00:00\n",
      "Downloading attrs-23.2.0-py3-none-any.whl (60 kB)\n",
      "   ---------------------------------------- 0.0/60.8 kB ? eta -:--:--\n",
      "   ---------------------------------------- 60.8/60.8 kB 3.2 MB/s eta 0:00:00\n",
      "Downloading jsonschema_specifications-2023.12.1-py3-none-any.whl (18 kB)\n",
      "Downloading referencing-0.32.1-py3-none-any.whl (26 kB)\n",
      "Downloading rpds_py-0.17.1-cp312-none-win_amd64.whl (205 kB)\n",
      "   ---------------------------------------- 0.0/205.7 kB ? eta -:--:--\n",
      "   ----- ---------------------------------- 30.7/205.7 kB ? eta -:--:--\n",
      "   ----- ---------------------------------- 30.7/205.7 kB ? eta -:--:--\n",
      "   ------------- ------------------------- 71.7/205.7 kB 558.5 kB/s eta 0:00:01\n",
      "   ----------------- --------------------- 92.2/205.7 kB 655.4 kB/s eta 0:00:01\n",
      "   ---------------------------- --------- 153.6/205.7 kB 706.2 kB/s eta 0:00:01\n",
      "   -------------------------------------  204.8/205.7 kB 827.9 kB/s eta 0:00:01\n",
      "   -------------------------------------- 205.7/205.7 kB 781.9 kB/s eta 0:00:00\n",
      "Installing collected packages: rpds-py, attrs, referencing, jsonschema-specifications, jsonschema\n",
      "Successfully installed attrs-23.2.0 jsonschema-4.21.0 jsonschema-specifications-2023.12.1 referencing-0.32.1 rpds-py-0.17.1\n"
     ]
    }
   ],
   "source": [
    "%pip install jsonschema"
   ]
  },
  {
   "cell_type": "code",
   "execution_count": 4,
   "metadata": {},
   "outputs": [
    {
     "name": "stdout",
     "output_type": "stream",
     "text": [
      "Data is valid\n"
     ]
    }
   ],
   "source": [
    "import json\n",
    "from jsonschema import validate\n",
    "\n",
    "schema = {\n",
    "    \"type\": \"object\",\n",
    "    \"properties\": {\n",
    "        \"name\": {\"type\": \"string\"},\n",
    "        \"age\": {\"type\": \"integer\", \"minimum\": 18} # minimum age is 18\n",
    "    },\n",
    "    \"required\": [\"name\", \"age\"]\n",
    "}\n",
    "\n",
    "data = {\"name\": \"John Doe\", \"age\": 18}\n",
    "\n",
    "try:\n",
    "    validate(instance=data, schema=schema)\n",
    "    print(\"Data is valid\")\n",
    "except jsonschema.exceptions.ValidationError as e:\n",
    "    print(\"Data is invalid:\", e)"
   ]
  }
 ],
 "metadata": {
  "kernelspec": {
   "display_name": "python13",
   "language": "python",
   "name": "python3"
  },
  "language_info": {
   "codemirror_mode": {
    "name": "ipython",
    "version": 3
   },
   "file_extension": ".py",
   "mimetype": "text/x-python",
   "name": "python",
   "nbconvert_exporter": "python",
   "pygments_lexer": "ipython3",
   "version": "3.12.0"
  }
 },
 "nbformat": 4,
 "nbformat_minor": 2
}
